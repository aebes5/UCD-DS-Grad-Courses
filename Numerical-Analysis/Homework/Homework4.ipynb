{
  "nbformat": 4,
  "nbformat_minor": 0,
  "metadata": {
    "colab": {
      "provenance": []
    },
    "kernelspec": {
      "name": "python3",
      "display_name": "Python 3"
    },
    "language_info": {
      "name": "python"
    }
  },
  "cells": [
    {
      "cell_type": "code",
      "execution_count": null,
      "metadata": {
        "colab": {
          "base_uri": "https://localhost:8080/"
        },
        "id": "Ddy8YHo7-7g0",
        "outputId": "90af1032-d242-49cf-a5dd-af9d6df363fa"
      },
      "outputs": [
        {
          "output_type": "stream",
          "name": "stdout",
          "text": [
            "With three points(removed the first):     48.00\n",
            "With all points:     49.66\n"
          ]
        }
      ],
      "source": [
        "# EX.3.1.18\n",
        "\n",
        "import copy\n",
        "import numpy as np\n",
        "import matplotlib.pyplot as plt\n",
        "\n",
        "\n",
        "def newtdd_inplace( x, y ):\n",
        "    n = len( x )\n",
        "    for i in range(1,n):\n",
        "        for j in range(n-i-1,-1,-1):\n",
        "            y[j+i] = ( y[j+i] - y[j+i-1] ) / ( x[j+i] - x[j] )\n",
        "    return y\n",
        "\n",
        "def newtdd( x, y ):\n",
        "    c = copy.deepcopy( y )\n",
        "    newtdd_inplace( x, c )\n",
        "    return c\n",
        "\n",
        "def polyval_nested_w_base_points( c, b, x ):\n",
        "  d = np.size(c)\n",
        "  px = c[ d-1 ] * np.ones( np.shape(x) )\n",
        "  for i in range( d-2, -1, -1 ):\n",
        "    px = px * ( x - b[i] ) + c[i]\n",
        "  return px\n",
        "\n",
        "x = np.array([40., 50., 60.])\n",
        "y = np.array([75.,  63.,  54.])\n",
        "\n",
        "c = newtdd( x, y )\n",
        "# print(\"coefficients of interpolating polynomial in nested form\")\n",
        "# print(\"from degree 0 to higest degree:\\n\",c)\n",
        "\n",
        "yy = polyval_nested_w_base_points( c, x, x )\n",
        "err = abs( yy - y )\n",
        "# print(\"--------------------------------------------------------------- -----\")\n",
        "# print(\"|    x     |          y           |          p(x)        |  error   |\")\n",
        "# print(\"---------------------------------------------------------------------\")\n",
        "# for i in range(0,len(x)):\n",
        "    # print(\"|\",f\"{x[i]: 8.1f}\",\"|\", f\"{y[i]: 20.16f}\",\"|\", f\"{yy[i]: 20.16f}\",\"|\", f\"{err[i]: 3.1e}\",\"|\")\n",
        "# print(\"---------------------------------------------------------------------\")\n",
        "\n",
        "# print( \"absolute error = \",  f\"{np.linalg.norm( y - yy, np.infty):6.1e}\" )\n",
        "\n",
        "print( \"With three points(removed the first): \",  f\"{polyval_nested_w_base_points( c, x, 70 ):8.2f}\" )\n",
        "\n",
        "x = np.array([25., 40., 50., 60.])\n",
        "y = np.array([ 95.,  75.,  63.,  54.])\n",
        "\n",
        "c = newtdd( x, y )\n",
        "# print(\"coefficients of interpolating polynomial in nested form\")\n",
        "# print(\"from degree 0 to higest degree:\\n\",c)\n",
        "\n",
        "yy = polyval_nested_w_base_points( c, x, x )\n",
        "err = abs( yy - y )\n",
        "# print(\"--------------------------------------------------------------- -----\")\n",
        "# print(\"|    x     |          y           |          p(x)        |  error   |\")\n",
        "# print(\"---------------------------------------------------------------------\")\n",
        "# for i in range(0,len(x)):\n",
        "    # print(\"|\",f\"{x[i]: 8.1f}\",\"|\", f\"{y[i]: 20.16f}\",\"|\", f\"{yy[i]: 20.16f}\",\"|\", f\"{err[i]: 3.1e}\",\"|\")\n",
        "# print(\"---------------------------------------------------------------------\")\n",
        "\n",
        "# print( \"absolute error = \",  f\"{np.linalg.norm( y - yy, np.infty):6.1e}\" )\n",
        "\n",
        "print( \"With all points: \",  f\"{polyval_nested_w_base_points( c, x, 70 ):8.2f}\" )\n"
      ]
    },
    {
      "cell_type": "code",
      "source": [
        "# CP.1.3.4\n",
        "\n",
        "import numpy as np\n",
        "from math import pi\n",
        "import copy\n",
        "\n",
        "def cos1( x ):\n",
        "\n",
        "    y = copy.deepcopy( x )\n",
        "    cos1_inplace( y )\n",
        "    return y\n",
        "\n",
        "def cos1_inplace( y ):\n",
        "    b = np.array([0., pi/6., 2.*pi/6., pi/2.])\n",
        "    c = np.array([1.,\n",
        "                   -0.255873,\n",
        "                  -0.423209,\n",
        "                  0.113871 ] )\n",
        "    for i in range(0,len(y)):\n",
        "        y[i] = np.mod( y[i], 2*pi )\n",
        "        s = 1\n",
        "        if y[i] > pi:\n",
        "            y[i] = 2 * pi - y[i]\n",
        "        if y[i] > pi / 2.:\n",
        "            y[i] = pi - y[i]\n",
        "            s = -1\n",
        "        y[i] = s * polyval_nested_w_base_points(c,b,y[i])\n",
        "\n",
        "def polyval_nested_w_base_points( c, b, x ):\n",
        "  d = np.size(c)\n",
        "  px = c[ d-1 ]\n",
        "  for i in range( d-2, -1, -1 ):\n",
        "    px = px * ( x - b[i] ) + c[i]\n",
        "  return px\n",
        "\n",
        "xx = np.array( [ 1., 2., 3., 4., 14., 1000. ] )\n",
        "y0 = np.cos( xx )\n",
        "yy = cos1( xx )\n",
        "err = np.abs( y0 - yy )\n",
        "\n",
        "print(\"--------------------------------------------------\")\n",
        "print(\"|   x   | cos (x) | cos1(x) |  error  |  error   |\")\n",
        "print(\"--------------------------------------------------\")\n",
        "for i in range(0,len(xx)):\n",
        "    print(\"|\",f\"{xx[i]: 5.0f}\",\"|\", f\"{y0[i]: .4f}\",\"|\", f\"{yy[i]: .4f}\",\"|\", f\"{err[i]: 6.4f}\",\"|\", f\"{err[i]: 3.1e}\",\"|\")\n",
        "print(\"--------------------------------------------------\")"
      ],
      "metadata": {
        "colab": {
          "base_uri": "https://localhost:8080/"
        },
        "id": "XwiFrFhZtAzU",
        "outputId": "bf5c3d09-8817-47e5-ff8a-fd97353d6a03"
      },
      "execution_count": null,
      "outputs": [
        {
          "output_type": "stream",
          "name": "stdout",
          "text": [
            "--------------------------------------------------\n",
            "|   x   | cos (x) | cos1(x) |  error  |  error   |\n",
            "--------------------------------------------------\n",
            "|     1 |  0.5403 |  0.5399 |  0.0004 |  3.5e-04 |\n",
            "|     2 | -0.4161 | -0.4169 |  0.0008 |  7.6e-04 |\n",
            "|     3 | -0.9900 | -0.9922 |  0.0022 |  2.2e-03 |\n",
            "|     4 | -0.6536 | -0.6525 |  0.0011 |  1.1e-03 |\n",
            "|    14 |  0.1367 |  0.1384 |  0.0017 |  1.7e-03 |\n",
            "|  1000 |  0.5624 |  0.5618 |  0.0005 |  5.3e-04 |\n",
            "--------------------------------------------------\n"
          ]
        }
      ]
    },
    {
      "cell_type": "code",
      "source": [
        "# EX.3.2.2\n",
        "\n",
        "import numpy as np\n",
        "\n",
        "print(abs(1.1552453009332422 - np.log(3)))"
      ],
      "metadata": {
        "colab": {
          "base_uri": "https://localhost:8080/"
        },
        "id": "S2iuc486bVrj",
        "outputId": "1b0f5226-4222-4e1c-ab75-cc1fe4583c06"
      },
      "execution_count": null,
      "outputs": [
        {
          "output_type": "stream",
          "name": "stdout",
          "text": [
            "0.0566330122651324\n"
          ]
        }
      ]
    }
  ]
}