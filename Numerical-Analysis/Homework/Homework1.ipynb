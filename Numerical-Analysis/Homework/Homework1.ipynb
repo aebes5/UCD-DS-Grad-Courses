{
  "nbformat": 4,
  "nbformat_minor": 0,
  "metadata": {
    "colab": {
      "provenance": []
    },
    "kernelspec": {
      "name": "python3",
      "display_name": "Python 3"
    },
    "language_info": {
      "name": "python"
    }
  },
  "cells": [
    {
      "cell_type": "code",
      "execution_count": 3,
      "metadata": {
        "colab": {
          "base_uri": "https://localhost:8080/"
        },
        "id": "VlLzFa563SLi",
        "outputId": "615b894f-1025-4fb4-c362-9c97e456745c"
      },
      "outputs": [
        {
          "output_type": "stream",
          "name": "stdout",
          "text": [
            "7.25 2.8125 4.9375\n",
            "7.25 2.8125 4.9375\n"
          ]
        }
      ],
      "source": [
        "# EX.0.1.2.Sauer\n",
        "\n",
        "\n",
        "x = -1/2\n",
        "\n",
        "a = ((6 * x - 2) * x - 3) * x + 7\n",
        "b = ((((8 * x - 1) * x - 3) * x + 1) * x - 3) * x + 1\n",
        "c = ((((( x ) * 4 * x - 2) * x) * x) * x - 2) * x + 4\n",
        "\n",
        "#double_check_a = (6 * x ** 3) - (2 * x ** 2) - ( 3 * x) + 7\n",
        "#double_check_b = (8 * x ** 5) - (x ** 4) - ( 3 * x ** 3) + (x ** 2) - (3 * x) + 1\n",
        "#double_check_c = (4 * x ** 6) - (2 * x ** 4) - ( 2 * x) + 4\n",
        "\n",
        "print(a, b, c)\n",
        "#print(double_check_a, double_check_b, double_check_c)"
      ]
    },
    {
      "cell_type": "code",
      "source": [
        "# EX.0.1.6.Sauer\n",
        "# Utilizing the nested multiplication algorithm to not 'waste' multiplication\n",
        "# operations when they aren't neccesary. Likewise, using powers of two to create\n",
        "# a more logarithmic growth to reach exponents compared to linearly increasing.\n",
        "# Checking work along the way to ensure the nesting is performed correctly.\n",
        "\n",
        "import numpy as np\n",
        "\n",
        "# a. p(x) = a0 + a5 x^5 + a10 x^10 + a15 x^15\n",
        "\n",
        "# reference evaluation\n",
        "a00 = -13; a05 = 26; a10 = 94; a15 = -2;\n",
        "x = np.array( [ -2, -1, 0, 1, 2 ] );\n",
        "px0 = a00 + a05 * ( x ** 5 ) + a10 * ( x ** 10 ) + a15 * ( x ** 15 )\n",
        "print( px0 )\n",
        "\n",
        "# our implementation\n",
        "x2 = x * x\n",
        "x4 = x2 * x2\n",
        "x5 = x4 * x\n",
        "px1 = a00 + x5 * ( a05 + x5 * ( a10 + a15 * x5 ) )\n",
        "print( px1 )\n",
        "# 6 multiplications, 3 additions, 0 power operator\n",
        "\n",
        "print( np.max( px1 - px0 ) )\n",
        "\n",
        "\n",
        "\n",
        "\n",
        "# b. p(x) = a07 x^7  + a12 x^12 + a17 x^17 + a22 x^22 + a27 x^27\n",
        "#         = x^7 (a07 + a05 x^05 + a10 x^10 + a15 x^15 + a20 x^20)\n",
        "\n",
        "# reference evaluation\n",
        "a07 = -17; a12 = 36; a17 = -24; a22 = -3; a27 = 4;\n",
        "x = np.array( [ -2, -1, 0, 1, 2 ] );\n",
        "px0 = a07 * ( x ** 7 ) + a12 * ( x ** 12 ) + a17 * ( x ** 17 ) + a22 * ( x ** 22 ) + a27 * ( x ** 27 )\n",
        "print( px0 )\n",
        "\n",
        "# our implementation\n",
        "x2 = x * x\n",
        "x4 = x2 * x2\n",
        "x5 = x4 * x\n",
        "x7 = x5 * x2\n",
        "px1 = x7 * ( a07 + x5 * ( a12 + x5 * ( a17 + x5 * ( a22 + x5 * a27 ) ) ) )\n",
        "print(px1)\n",
        "# 9 multiplications, 4 additions, 0 power operator\n",
        "\n",
        "print( np.max( px0 - px1 ) )\n"
      ],
      "metadata": {
        "colab": {
          "base_uri": "https://localhost:8080/"
        },
        "id": "BTSVIt41-Lue",
        "outputId": "83d28ca9-0587-403f-e347-3f5dbd91991d"
      },
      "execution_count": 4,
      "outputs": [
        {
          "output_type": "stream",
          "name": "stdout",
          "text": [
            "[160947     57    -13    105  31539]\n",
            "[160947     57    -13    105  31539]\n",
            "0\n",
            "[-546158464         70          0         -4  521287552]\n",
            "[-546158464         70          0         -4  521287552]\n",
            "0\n"
          ]
        }
      ]
    },
    {
      "cell_type": "code",
      "source": [
        "# CP.0.1.2.Sauer\n",
        "\n",
        "import numpy as np\n",
        "np.set_printoptions(precision=3,suppress=False)\n",
        "\n",
        "def polyval_nested( c, x ):\n",
        "  d = np.size(c)\n",
        "  px = c[ d-1 ]\n",
        "  for i in range( d-2, -1, -1 ):\n",
        "    px = px * + x + c[i]\n",
        "  return px\n",
        "\n",
        "d = 99\n",
        "x = 1.00001\n",
        "\n",
        "c = np.ones( [d+1], dtype=np.float64 )\n",
        "\n",
        "for i in range(0, d + 1):\n",
        "  if i % 2 == 0:\n",
        "    pass\n",
        "  else:\n",
        "    c[i] = -1\n",
        "\n",
        "\n",
        "px1 = polyval_nested( c, x )\n",
        "print( px1 )\n",
        "\n",
        "px2 = np.polyval( np.flip(c), x )\n",
        "print( px2 )\n",
        "\n",
        "px3 = ( 1 - (x ** 100) ) / ( 1 + x )\n",
        "print( px3 )\n",
        "\n",
        "print( np.abs( ( px1 - px3 ) / px3 ) )"
      ],
      "metadata": {
        "colab": {
          "base_uri": "https://localhost:8080/"
        },
        "id": "0i-WX6UIhySY",
        "outputId": "9f85aaca-3a09-4d3c-c9cb-b71ccdac00dc"
      },
      "execution_count": 1,
      "outputs": [
        {
          "output_type": "stream",
          "name": "stdout",
          "text": [
            "-0.0005002450796476321\n",
            "-0.0005002450796476321\n",
            "-0.0005002450796474608\n",
            "3.424400363386547e-13\n"
          ]
        }
      ]
    },
    {
      "cell_type": "code",
      "source": [
        "# EX.0.2.8.Sauer\n",
        "# Binary to base 10\n",
        "\n",
        "x = ( 0b11011 )\n",
        "print( x )\n",
        "\n",
        "x = ( 0b110111001 ) * ( 2 ** (-3) )\n",
        "print( x )\n",
        "\n",
        "x = ( 0b111001001001001 ) * ( 2 ** (-12) )\n",
        "print( x )\n",
        "print ( 1/7 )\n",
        "\n",
        "x = ( 0b1010010101010101 ) * ( 2 ** (-12) )\n",
        "print( x )\n",
        "\n",
        "x = ( 0b101111010101010101 ) * ( 2 ** (-13) )\n",
        "print( x )\n",
        "\n",
        "x = ( 0b1111010001001001001001001001001001 ) * ( 2 ** (-30) )\n",
        "print( x )"
      ],
      "metadata": {
        "colab": {
          "base_uri": "https://localhost:8080/"
        },
        "id": "RSgLFK-OUV7r",
        "outputId": "8762e0ae-5342-4727-8ee9-b3f5874ff1dd"
      },
      "execution_count": 15,
      "outputs": [
        {
          "output_type": "stream",
          "name": "stdout",
          "text": [
            "27\n",
            "55.125\n",
            "7.142822265625\n",
            "0.14285714285714285\n",
            "10.333251953125\n",
            "23.6666259765625\n",
            "15.267857142724097\n"
          ]
        }
      ]
    },
    {
      "cell_type": "code",
      "source": [
        "# EX.0.3.7\n",
        "\n",
        "import struct\n",
        "def double_to_hex(f):\n",
        "  return hex(struct.unpack('<Q', struct.pack('<d', f))[0])\n",
        "\n",
        "print( double_to_hex(  16.) )\n",
        "print( double_to_hex( 130.) )\n",
        "print( double_to_hex( 0.25) )\n",
        "print( double_to_hex( 1./7. ) )\n",
        "print( double_to_hex( 4./7. ) )\n",
        "print( double_to_hex( 0.01 ) )\n",
        "print( double_to_hex( -1./100. ) )\n",
        "print( double_to_hex( -2./100. ) )\n",
        "\n",
        "print(1 + 2 ** -51 + 2 ** -52 +  2 ** -54 - 1)\n",
        "print(2 ** -51 + 2 ** -52)"
      ],
      "metadata": {
        "colab": {
          "base_uri": "https://localhost:8080/"
        },
        "id": "qBgfw8cUFz8_",
        "outputId": "cae3e8d4-d233-4496-bf34-858c439682df"
      },
      "execution_count": 10,
      "outputs": [
        {
          "output_type": "stream",
          "name": "stdout",
          "text": [
            "0x4030000000000000\n",
            "0x4060400000000000\n",
            "0x3fd0000000000000\n",
            "0x3fc2492492492492\n",
            "0x3fe2492492492492\n",
            "0x3f847ae147ae147b\n",
            "0xbf847ae147ae147b\n",
            "0xbf947ae147ae147b\n",
            "6.661338147750939e-16\n",
            "6.661338147750939e-16\n"
          ]
        }
      ]
    },
    {
      "cell_type": "code",
      "source": [
        "import numpy as np\n",
        "\n",
        "# double check and calculation\n",
        "coefficients = [1, 3, -8 ** (-14)]\n",
        "roots = np.roots(coefficients)\n",
        "print(\"Roots of the polynomial:\", roots)\n",
        "\n",
        "print( -1 * ( 3 + ( 9 - 4 * ( -8  ** -14) ) ** 0.5 ) / 2)\n",
        "\n",
        "print( -1 * (2 * ( -8  ** -14) / (3 + ( 9 - 4 * ( -8  ** -14) ) ** 0.5)))"
      ],
      "metadata": {
        "colab": {
          "base_uri": "https://localhost:8080/"
        },
        "id": "F71LYZkZdhms",
        "outputId": "7f3fae3b-c72c-4822-b4d2-2b9dc1266eec"
      },
      "execution_count": 10,
      "outputs": [
        {
          "output_type": "stream",
          "name": "stdout",
          "text": [
            "Roots of the polynomial: [-3.00000000e+00  7.57912251e-14]\n",
            "-3.0000000000000755\n",
            "7.579122514774211e-14\n"
          ]
        }
      ]
    }
  ]
}