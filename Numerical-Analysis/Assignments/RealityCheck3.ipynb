{
  "nbformat": 4,
  "nbformat_minor": 0,
  "metadata": {
    "colab": {
      "provenance": []
    },
    "kernelspec": {
      "name": "python3",
      "display_name": "Python 3"
    },
    "language_info": {
      "name": "python"
    }
  },
  "cells": [
    {
      "cell_type": "code",
      "execution_count": null,
      "metadata": {
        "colab": {
          "base_uri": "https://localhost:8080/"
        },
        "id": "BUTu4Pkg5NN7",
        "outputId": "0f7fc3e2-e269-4eec-bd6b-12b321ae09b3"
      },
      "outputs": [
        {
          "output_type": "stream",
          "name": "stdout",
          "text": [
            "\u001b[1mQuestion1:\u001b[0m\n",
            "L =  2.495246745208395\n",
            "\n",
            "\u001b[1mQuestion2:\u001b[0m\n",
            "s = 0.4 : t_ = 0.350239\n",
            "\n",
            "\u001b[1mQuestion3:\u001b[0m\n",
            "s = 0.1 : t_ = 0.124063\n",
            "s = 0.2 : t_ = 0.204047\n",
            "s = 0.3 : t_ = 0.276524\n",
            "s = 0.4 : t_ = 0.350239\n",
            "s = 0.5 : t_ = 0.432522\n",
            "s = 0.6 : t_ = 0.525089\n",
            "s = 0.7 : t_ = 0.602218\n",
            "s = 0.8 : t_ = 0.657022\n",
            "s = 0.9 : t_ = 0.699023\n",
            "s = 1.0 : t_ = 0.733502\n",
            "s = 1.1 : t_ = 0.763061\n",
            "s = 1.2 : t_ = 0.789135\n",
            "s = 1.3 : t_ = 0.812596\n",
            "s = 1.4 : t_ = 0.834013\n",
            "s = 1.5 : t_ = 0.853784\n",
            "s = 1.6 : t_ = 0.872192\n",
            "s = 1.7 : t_ = 0.889454\n",
            "s = 1.8 : t_ = 0.905733\n",
            "s = 1.9 : t_ = 0.921161\n",
            "s = 2.0 : t_ = 0.935840\n",
            "s = 2.1 : t_ = 0.949857\n",
            "s = 2.2 : t_ = 0.963283\n",
            "s = 2.3 : t_ = 0.976176\n",
            "s = 2.4 : t_ = 0.988587\n",
            "\n",
            "\u001b[1mQuestion4:\u001b[0m\n",
            " 1 0.7530728030340170 1.15e+00\n",
            " 2 0.5608299346542232 6.01e-01\n",
            " 3 0.3688748478154796 5.32e-02\n",
            " 4 0.3499572666578572 8.05e-04\n",
            " 5 0.3502392514695337 1.64e-07\n",
            " 6 0.3502393089166618 2.60e-13\n",
            " 7 0.3502393089166652 2.70e-13\n",
            " 8 0.3502393089166652 2.70e-13\n",
            " 9 0.3502393089166652 2.70e-13\n",
            "10 0.3502393089166652 2.70e-13\n"
          ]
        }
      ],
      "source": [
        "# REALITY CHECK 3\n",
        "\n",
        "from scipy.integrate import quadrature\n",
        "import numpy as np\n",
        "from scipy.optimize import root_scalar\n",
        "\n",
        "## Question 1\n",
        "print(\"\\033[1mQuestion1:\\033[0m\")\n",
        "\n",
        "def xp(t):\n",
        "  return 0.3 + 7.8 * t - (4.7 * 3 * t ** 2)\n",
        "def yp(t):\n",
        "  return 0.3 + 1.8 * t - (2.7 * 3 * t ** 2)\n",
        "\n",
        "def f(t):\n",
        "  return np.sqrt(xp(t) ** 2 + yp(t) ** 2)\n",
        "\n",
        "L = quadrature(f, 0, 1)[0]\n",
        "print(\"L = \", L)\n",
        "print(\"\")\n",
        "\n",
        "## Question 2\n",
        "print(\"\\033[1mQuestion2:\\033[0m\")\n",
        "\n",
        "def f_int(t, s):\n",
        "  integral = quadrature(f, 0, t)[0]\n",
        "  return integral - s\n",
        "\n",
        "result = root_scalar(f_int, args=0.4, method='bisect', bracket=[0, 1])\n",
        "print(f\"s = 0.4 : t_ = {result.root:.6f}\")\n",
        "print(\"\")\n",
        "\n",
        "## Question 3\n",
        "print(\"\\033[1mQuestion3:\\033[0m\")\n",
        "\n",
        "for i in range(1,25):\n",
        "  results = root_scalar(f_int, args=(i/10), method='bisect', bracket=[0, 1])\n",
        "  print(f\"s = {i/10:.1f} : t_ = {results.root:.6f}\")\n",
        "print(\"\")\n",
        "\n",
        "## Question 4\n",
        "print(\"\\033[1mQuestion4:\\033[0m\")\n",
        "\n",
        "def f_int(t):\n",
        "  integral = quadrature(f, 0, t)[0]\n",
        "  return integral - 0.4\n",
        "\n",
        "def newton_method( f, dfdx, x, numiter, r ):\n",
        "  for i in range(0,numiter):\n",
        "    x = x - f(x) / dfdx(x)\n",
        "    true_fwd_rel_error = np.abs( r - x ) / np.abs( r )\n",
        "    print( f\"{i+1:2d}\", f\"{x:.16f}\", f\"{true_fwd_rel_error:.2e}\" )\n",
        "  return\n",
        "\n",
        "newton_method(f_int, f, 1, 10, result.root)"
      ]
    }
  ]
}